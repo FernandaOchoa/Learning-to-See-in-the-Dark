{
 "cells": [
  {
   "cell_type": "code",
   "execution_count": 26,
   "metadata": {},
   "outputs": [],
   "source": [
    "from torch.utils.data.dataset import Dataset\n",
    "from torchvision import transforms\n",
    "import pandas as pd\n",
    "import numpy as np\n",
    "\n",
    "import os"
   ]
  },
  {
   "cell_type": "code",
   "execution_count": 9,
   "metadata": {},
   "outputs": [],
   "source": [
    "lines = open('train.txt').read().split('\\n')"
   ]
  },
  {
   "cell_type": "code",
   "execution_count": 21,
   "metadata": {},
   "outputs": [],
   "source": [
    "data_info = np.array([line.split()[0:2] for line in lines])"
   ]
  },
  {
   "cell_type": "code",
   "execution_count": 36,
   "metadata": {},
   "outputs": [
    {
     "data": {
      "text/plain": [
       "array(['./Sony/short_npy/00001_00_0.04s.jpg',\n",
       "       './Sony/short_npy/00001_00_0.1s.jpg',\n",
       "       './Sony/short_npy/00001_01_0.04s.jpg',\n",
       "       './Sony/short_npy/00001_01_0.1s.jpg',\n",
       "       './Sony/short_npy/00001_02_0.1s.jpg'], dtype='<U35')"
      ]
     },
     "execution_count": 36,
     "metadata": {},
     "output_type": "execute_result"
    }
   ],
   "source": [
    "img_arr = data_info[:, 0]\n",
    "img_arr"
   ]
  },
  {
   "cell_type": "code",
   "execution_count": 38,
   "metadata": {},
   "outputs": [
    {
     "data": {
      "text/plain": [
       "array(['./Sony/long_npy/00001_00_10s.jpg',\n",
       "       './Sony/long_npy/00001_00_10s.jpg',\n",
       "       './Sony/long_npy/00001_00_10s.jpg',\n",
       "       './Sony/long_npy/00001_00_10s.jpg',\n",
       "       './Sony/long_npy/00001_00_10s.jpg'], dtype='<U35')"
      ]
     },
     "execution_count": 38,
     "metadata": {},
     "output_type": "execute_result"
    }
   ],
   "source": [
    "output_arr = data_info[:, 1]\n",
    "output_arr"
   ]
  },
  {
   "cell_type": "code",
   "execution_count": 42,
   "metadata": {},
   "outputs": [
    {
     "data": {
      "text/plain": [
       "5"
      ]
     },
     "execution_count": 42,
     "metadata": {},
     "output_type": "execute_result"
    }
   ],
   "source": [
    "len(data_info)"
   ]
  },
  {
   "cell_type": "code",
   "execution_count": 43,
   "metadata": {},
   "outputs": [],
   "source": [
    "class CustomDatasetFromImages(Dataset):\n",
    "    def __init__(self, txt_path):\n",
    "        \n",
    "        #Transforms\n",
    "        self.to_tensor = transforms.ToTensor()\n",
    "        # Read the txt file\n",
    "        lines = open('train.txt').read().split('\\n')\n",
    "        self.data_info = np.array([line.split()[0:2] for line in lines])\n",
    "        # First column contains the image paths\n",
    "        self.image_arr = self.data_info[:, 0]\n",
    "        # Second column is the labels\n",
    "        self.output_arr = self.data_info[:, 1]\n",
    "        # Calculate len\n",
    "        self.data_len = len(self.data_info)\n",
    "\n",
    "    def __getitem__(self, index):\n",
    "        # Get image name from the pandas df\n",
    "        single_image_name = self.image_arr[index]\n",
    "        # Open image\n",
    "        img_as_img = Image.open(single_image_name)\n",
    "\n",
    "        # Check if there is an operation\n",
    "        some_operation = self.operation_arr[index]\n",
    "        # If there is an operation\n",
    "        if some_operation:\n",
    "            # Do some operation on image\n",
    "            # ...\n",
    "            # ...\n",
    "            pass\n",
    "        # Transform image to tensor\n",
    "        img_as_tensor = self.to_tensor(img_as_img)\n",
    "\n",
    "        # Get label(class) of the image based on the cropped pandas column\n",
    "        single_image_label = self.label_arr[index]\n",
    "\n",
    "        return (img_as_tensor, single_image_label)\n",
    "\n",
    "    def __len__(self):\n",
    "        return self.data_len"
   ]
  },
  {
   "cell_type": "code",
   "execution_count": 45,
   "metadata": {},
   "outputs": [],
   "source": [
    "train = CustomDatasetFromImages('train.txt')"
   ]
  },
  {
   "cell_type": "code",
   "execution_count": 49,
   "metadata": {},
   "outputs": [
    {
     "data": {
      "text/plain": [
       "array(['./Sony/short_npy/00001_00_0.04s.jpg',\n",
       "       './Sony/short_npy/00001_00_0.1s.jpg',\n",
       "       './Sony/short_npy/00001_01_0.04s.jpg',\n",
       "       './Sony/short_npy/00001_01_0.1s.jpg',\n",
       "       './Sony/short_npy/00001_02_0.1s.jpg'], dtype='<U35')"
      ]
     },
     "execution_count": 49,
     "metadata": {},
     "output_type": "execute_result"
    }
   ],
   "source": [
    "train.image_arr"
   ]
  }
 ],
 "metadata": {
  "kernelspec": {
   "display_name": "Python 3",
   "language": "python",
   "name": "python3"
  },
  "language_info": {
   "codemirror_mode": {
    "name": "ipython",
    "version": 3
   },
   "file_extension": ".py",
   "mimetype": "text/x-python",
   "name": "python",
   "nbconvert_exporter": "python",
   "pygments_lexer": "ipython3",
   "version": "3.7.7"
  }
 },
 "nbformat": 4,
 "nbformat_minor": 4
}
